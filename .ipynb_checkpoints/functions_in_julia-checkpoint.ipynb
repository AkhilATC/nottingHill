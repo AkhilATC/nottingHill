{
 "cells": [
  {
   "cell_type": "markdown",
   "id": "229d5e5b",
   "metadata": {},
   "source": [
    "## learn Julia 💝\n",
    "[Installation](https://ferrolho.github.io/blog/2019-01-26/how-to-install-julia-on-ubuntu)"
   ]
  },
  {
   "cell_type": "markdown",
   "id": "e55f6388",
   "metadata": {},
   "source": [
    "### Functions"
   ]
  },
  {
   "cell_type": "code",
   "execution_count": 1,
   "id": "4363fb0a",
   "metadata": {},
   "outputs": [
    {
     "name": "stdout",
     "output_type": "stream",
     "text": [
      "Hello Julia Roberts\n"
     ]
    }
   ],
   "source": [
    "#=\n",
    "In julia we can define functions in two ways\n",
    "    1. basic way\n",
    "    2. assignment form\n",
    "=#\n",
    "\n",
    "# Basic / treadition way of function\n",
    "\n",
    "function print_name(name)\n",
    "    println(\"Hello $name\")\n",
    "end\n",
    "\n",
    "print_name(\"Julia Roberts\")"
   ]
  },
  {
   "cell_type": "code",
   "execution_count": 2,
   "id": "e641b100",
   "metadata": {},
   "outputs": [
    {
     "data": {
      "text/plain": [
       "6"
      ]
     },
     "execution_count": 2,
     "metadata": {},
     "output_type": "execute_result"
    }
   ],
   "source": [
    "# 2. Assignment form - single line functions\n",
    "fun(x,y) = x*y\n",
    "fun(2,3)"
   ]
  },
  {
   "cell_type": "code",
   "execution_count": 3,
   "id": "57d7febf",
   "metadata": {},
   "outputs": [
    {
     "ename": "LoadError",
     "evalue": "UndefVarError: x not defined",
     "output_type": "error",
     "traceback": [
      "UndefVarError: x not defined",
      "",
      "Stacktrace:",
      " [1] top-level scope",
      "   @ In[3]:2",
      " [2] eval",
      "   @ ./boot.jl:373 [inlined]",
      " [3] include_string(mapexpr::typeof(REPL.softscope), mod::Module, code::String, filename::String)",
      "   @ Base ./loading.jl:1196"
     ]
    }
   ],
   "source": [
    "concat_name(x::String) = x*\"cool\"\n",
    "concat_name(\"Julia \")"
   ]
  },
  {
   "cell_type": "code",
   "execution_count": null,
   "id": "d6a29c76",
   "metadata": {},
   "outputs": [],
   "source": []
  }
 ],
 "metadata": {
  "kernelspec": {
   "display_name": "Julia 1.7.2",
   "language": "julia",
   "name": "julia-1.7"
  },
  "language_info": {
   "file_extension": ".jl",
   "mimetype": "application/julia",
   "name": "julia",
   "version": "1.7.2"
  }
 },
 "nbformat": 4,
 "nbformat_minor": 5
}
