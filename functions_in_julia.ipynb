{
 "cells": [
  {
   "cell_type": "markdown",
   "id": "b70580bb",
   "metadata": {},
   "source": [
    "## learn Julia 💝\n",
    "[Installation](https://ferrolho.github.io/blog/2019-01-26/how-to-install-julia-on-ubuntu)"
   ]
  },
  {
   "cell_type": "markdown",
   "id": "2f47eb12",
   "metadata": {},
   "source": [
    "### Functions"
   ]
  },
  {
   "cell_type": "code",
   "execution_count": 1,
   "id": "c1f37a23",
   "metadata": {},
   "outputs": [
    {
     "name": "stdout",
     "output_type": "stream",
     "text": [
      "Hello Julia Roberts\n"
     ]
    }
   ],
   "source": [
    "#=\n",
    "In julia we can define functions in two ways\n",
    "    1. basic way\n",
    "    2. assignment form\n",
    "=#\n",
    "\n",
    "# Basic / treadition way of function\n",
    "\n",
    "function print_name(name)\n",
    "    println(\"Hello $name\")\n",
    "end\n",
    "\n",
    "print_name(\"Julia Roberts\")"
   ]
  },
  {
   "cell_type": "code",
   "execution_count": 2,
   "id": "434b57c3",
   "metadata": {},
   "outputs": [
    {
     "data": {
      "text/plain": [
       "6"
      ]
     },
     "execution_count": 2,
     "metadata": {},
     "output_type": "execute_result"
    }
   ],
   "source": [
    "# 2. Assignment form - single line functions\n",
    "fun(x,y) = x*y\n",
    "fun(2,3)"
   ]
  },
  {
   "cell_type": "code",
   "execution_count": 5,
   "id": "82b20e7d",
   "metadata": {},
   "outputs": [
    {
     "data": {
      "text/plain": [
       "\"Julia cool\""
      ]
     },
     "execution_count": 5,
     "metadata": {},
     "output_type": "execute_result"
    }
   ],
   "source": [
    "concat_name(x::String) = x*\"cool\"\n",
    "concat_name(\"Julia \")\n",
    "\n",
    "#=\n",
    "We can define datatype of argument using '::'\n",
    "example fun(x::Int)\n",
    "=#"
   ]
  },
  {
   "cell_type": "markdown",
   "id": "943e3488",
   "metadata": {},
   "source": [
    "### varargs functions\n",
    "It is often convenient to be able to write functions taking an arbitrary number of arguments. \n",
    "Such functions are traditionally known as \"varargs\" functions, \n",
    "which is short for \"variable number of arguments\". "
   ]
  },
  {
   "cell_type": "code",
   "execution_count": 10,
   "id": "68c8c79b",
   "metadata": {},
   "outputs": [
    {
     "data": {
      "text/plain": [
       "(1, 2, (3, 4))"
      ]
     },
     "execution_count": 10,
     "metadata": {},
     "output_type": "execute_result"
    }
   ],
   "source": [
    "cool(x,y,z...) = (x,y,z)\n",
    "cool(1,2,3,4) # function pass 4 parameters as argumensts "
   ]
  },
  {
   "cell_type": "markdown",
   "id": "f37290ab",
   "metadata": {},
   "source": [
    "### Optional Arguments"
   ]
  },
  {
   "cell_type": "code",
   "execution_count": 17,
   "id": "c882e719",
   "metadata": {},
   "outputs": [
    {
     "data": {
      "text/plain": [
       "10"
      ]
     },
     "execution_count": 17,
     "metadata": {},
     "output_type": "execute_result"
    }
   ],
   "source": [
    "function op(;b=2)\n",
    "    return 5*b\n",
    "end\n",
    "op(b = 5) # 5*5=25\n",
    "op() # 5*2 = 10"
   ]
  }
 ],
 "metadata": {
  "kernelspec": {
   "display_name": "Julia 1.7.2",
   "language": "julia",
   "name": "julia-1.7"
  },
  "language_info": {
   "file_extension": ".jl",
   "mimetype": "application/julia",
   "name": "julia",
   "version": "1.7.2"
  }
 },
 "nbformat": 4,
 "nbformat_minor": 5
}
