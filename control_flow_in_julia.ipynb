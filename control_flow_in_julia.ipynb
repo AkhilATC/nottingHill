{
 "cells": [
  {
   "cell_type": "markdown",
   "id": "e25a1056",
   "metadata": {},
   "source": [
    "# Control Flow\n",
    "\n",
    "Julia provides a variety of control flow constructs:\n",
    "\n",
    "- Compound Expressions: begin and ;.\n",
    "- Conditional Evaluation: if-elseif-else and ?: (ternary operator).\n",
    "- Short-Circuit Evaluation: logical operators && (“and”) and || (“or”), and also chained comparisons.\n",
    "- Repeated Evaluation: Loops: while and for.\n",
    "- Exception Handling: try-catch, error and throw.\n",
    "- Tasks (aka Coroutines): yieldto."
   ]
  },
  {
   "cell_type": "markdown",
   "id": "0407b902",
   "metadata": {},
   "source": [
    "## 1. Compound Expressions\n",
    "\n",
    "Sometimes it is convenient to have a single expression which evaluates several subexpressions in order, returning the value of the last subexpression as its value. we can impliment __Compound Expressions__ by following ways\n",
    "- begin block\n",
    "- ;chains."
   ]
  },
  {
   "cell_type": "code",
   "execution_count": 4,
   "id": "e08a4efe",
   "metadata": {},
   "outputs": [
    {
     "data": {
      "text/plain": [
       "900"
      ]
     },
     "execution_count": 4,
     "metadata": {},
     "output_type": "execute_result"
    }
   ],
   "source": [
    "# begin block\n",
    "\n",
    "z = begin\n",
    "    x = 10\n",
    "    y = 20\n",
    "    sum = (x+y)^2 # 10^2\n",
    "end"
   ]
  },
  {
   "cell_type": "code",
   "execution_count": 7,
   "id": "0ec3b8e0",
   "metadata": {},
   "outputs": [
    {
     "data": {
      "text/plain": [
       "7"
      ]
     },
     "execution_count": 7,
     "metadata": {},
     "output_type": "execute_result"
    }
   ],
   "source": [
    "# ; chain\n",
    "\n",
    "v = (x=1;y=3;x+y)\n",
    "# there is no requirement that begin blocks be multiline or that ; chains be single-line:\n",
    "n = begin x=2;y=x+3;y+x; end"
   ]
  },
  {
   "cell_type": "markdown",
   "id": "1a5dda16",
   "metadata": {},
   "source": [
    "# 2.Conditional Evaluation"
   ]
  },
  {
   "cell_type": "code",
   "execution_count": 12,
   "id": "c7336414",
   "metadata": {},
   "outputs": [
    {
     "name": "stdout",
     "output_type": "stream",
     "text": [
      "Bigger value =15\n"
     ]
    }
   ],
   "source": [
    "function max_of_3(a::Int,b::Int,c::Int)\n",
    "    if a > b && a > c\n",
    "        println(\"Bigger value = $a\")\n",
    "    elseif b>c\n",
    "        println(\"Bigger value = $b\")\n",
    "    else\n",
    "        println(\"Bigger value =$c\")\n",
    "    end\n",
    "end\n",
    "max_of_3(8,13,15)"
   ]
  },
  {
   "cell_type": "code",
   "execution_count": 16,
   "id": "1e1ca22c",
   "metadata": {},
   "outputs": [
    {
     "data": {
      "text/plain": [
       "10"
      ]
     },
     "execution_count": 16,
     "metadata": {},
     "output_type": "execute_result"
    }
   ],
   "source": [
    "# ternary operator - condition ? true : false\n",
    "a = 1;b = 10\n",
    "max = a>b ? a : b"
   ]
  },
  {
   "cell_type": "code",
   "execution_count": null,
   "id": "dd26c687",
   "metadata": {},
   "outputs": [],
   "source": []
  }
 ],
 "metadata": {
  "kernelspec": {
   "display_name": "Julia 1.7.2",
   "language": "julia",
   "name": "julia-1.7"
  },
  "language_info": {
   "file_extension": ".jl",
   "mimetype": "application/julia",
   "name": "julia",
   "version": "1.7.2"
  }
 },
 "nbformat": 4,
 "nbformat_minor": 5
}
