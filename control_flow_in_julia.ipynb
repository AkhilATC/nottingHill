{
 "cells": [
  {
   "cell_type": "markdown",
   "id": "cb9b9352",
   "metadata": {},
   "source": [
    "# Control Flow\n",
    "\n",
    "Julia provides a variety of control flow constructs:\n",
    "\n",
    "- Compound Expressions: begin and ;.\n",
    "- Conditional Evaluation: if-elseif-else and ?: (ternary operator).\n",
    "- Short-Circuit Evaluation: logical operators && (“and”) and || (“or”), and also chained comparisons.\n",
    "- Repeated Evaluation: Loops: while and for.\n",
    "- Exception Handling: try-catch, error and throw.\n",
    "- Tasks (aka Coroutines): yieldto."
   ]
  },
  {
   "cell_type": "code",
   "execution_count": null,
   "id": "6697fd51",
   "metadata": {},
   "outputs": [],
   "source": []
  }
 ],
 "metadata": {
  "kernelspec": {
   "display_name": "Julia 1.7.2",
   "language": "julia",
   "name": "julia-1.7"
  },
  "language_info": {
   "file_extension": ".jl",
   "mimetype": "application/julia",
   "name": "julia",
   "version": "1.7.2"
  }
 },
 "nbformat": 4,
 "nbformat_minor": 5
}
